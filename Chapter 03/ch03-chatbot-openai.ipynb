{
 "cells": [
  {
   "cell_type": "code",
   "execution_count": 1,
   "id": "a9643a96",
   "metadata": {
    "_cell_guid": "b1076dfc-b9ad-4769-8c92-a6c4dae69d19",
    "_kg_hide-output": true,
    "_uuid": "8f2839f25d086af736a60e9eeb907d3b93b6e0e5",
    "execution": {
     "iopub.execute_input": "2024-01-30T13:56:10.297941Z",
     "iopub.status.busy": "2024-01-30T13:56:10.297146Z",
     "iopub.status.idle": "2024-01-30T13:56:28.107081Z",
     "shell.execute_reply": "2024-01-30T13:56:28.105150Z"
    },
    "papermill": {
     "duration": 17.819869,
     "end_time": "2024-01-30T13:56:28.110552",
     "exception": false,
     "start_time": "2024-01-30T13:56:10.290683",
     "status": "completed"
    },
    "tags": []
   },
   "outputs": [
    {
     "name": "stdout",
     "output_type": "stream",
     "text": [
      "Collecting openai\r\n",
      "  Downloading openai-1.10.0-py3-none-any.whl.metadata (18 kB)\r\n",
      "Requirement already satisfied: anyio<5,>=3.5.0 in /opt/conda/lib/python3.10/site-packages (from openai) (4.2.0)\r\n",
      "Requirement already satisfied: distro<2,>=1.7.0 in /opt/conda/lib/python3.10/site-packages (from openai) (1.9.0)\r\n",
      "Collecting httpx<1,>=0.23.0 (from openai)\r\n",
      "  Downloading httpx-0.26.0-py3-none-any.whl.metadata (7.6 kB)\r\n",
      "Requirement already satisfied: pydantic<3,>=1.9.0 in /opt/conda/lib/python3.10/site-packages (from openai) (2.5.3)\r\n",
      "Requirement already satisfied: sniffio in /opt/conda/lib/python3.10/site-packages (from openai) (1.3.0)\r\n",
      "Requirement already satisfied: tqdm>4 in /opt/conda/lib/python3.10/site-packages (from openai) (4.66.1)\r\n",
      "Requirement already satisfied: typing-extensions<5,>=4.7 in /opt/conda/lib/python3.10/site-packages (from openai) (4.9.0)\r\n",
      "Requirement already satisfied: idna>=2.8 in /opt/conda/lib/python3.10/site-packages (from anyio<5,>=3.5.0->openai) (3.6)\r\n",
      "Requirement already satisfied: exceptiongroup>=1.0.2 in /opt/conda/lib/python3.10/site-packages (from anyio<5,>=3.5.0->openai) (1.2.0)\r\n",
      "Requirement already satisfied: certifi in /opt/conda/lib/python3.10/site-packages (from httpx<1,>=0.23.0->openai) (2023.11.17)\r\n",
      "Collecting httpcore==1.* (from httpx<1,>=0.23.0->openai)\r\n",
      "  Downloading httpcore-1.0.2-py3-none-any.whl.metadata (20 kB)\r\n",
      "Requirement already satisfied: h11<0.15,>=0.13 in /opt/conda/lib/python3.10/site-packages (from httpcore==1.*->httpx<1,>=0.23.0->openai) (0.14.0)\r\n",
      "Requirement already satisfied: annotated-types>=0.4.0 in /opt/conda/lib/python3.10/site-packages (from pydantic<3,>=1.9.0->openai) (0.6.0)\r\n",
      "Requirement already satisfied: pydantic-core==2.14.6 in /opt/conda/lib/python3.10/site-packages (from pydantic<3,>=1.9.0->openai) (2.14.6)\r\n",
      "Downloading openai-1.10.0-py3-none-any.whl (225 kB)\r\n",
      "\u001b[2K   \u001b[90m━━━━━━━━━━━━━━━━━━━━━━━━━━━━━━━━━━━━━━━━\u001b[0m \u001b[32m225.1/225.1 kB\u001b[0m \u001b[31m2.4 MB/s\u001b[0m eta \u001b[36m0:00:00\u001b[0m\r\n",
      "\u001b[?25hDownloading httpx-0.26.0-py3-none-any.whl (75 kB)\r\n",
      "\u001b[2K   \u001b[90m━━━━━━━━━━━━━━━━━━━━━━━━━━━━━━━━━━━━━━━━\u001b[0m \u001b[32m75.9/75.9 kB\u001b[0m \u001b[31m4.1 MB/s\u001b[0m eta \u001b[36m0:00:00\u001b[0m\r\n",
      "\u001b[?25hDownloading httpcore-1.0.2-py3-none-any.whl (76 kB)\r\n",
      "\u001b[2K   \u001b[90m━━━━━━━━━━━━━━━━━━━━━━━━━━━━━━━━━━━━━━━━\u001b[0m \u001b[32m76.9/76.9 kB\u001b[0m \u001b[31m4.4 MB/s\u001b[0m eta \u001b[36m0:00:00\u001b[0m\r\n",
      "\u001b[?25hInstalling collected packages: httpcore, httpx, openai\r\n",
      "Successfully installed httpcore-1.0.2 httpx-0.26.0 openai-1.10.0\r\n"
     ]
    }
   ],
   "source": [
    "!pip install --upgrade openai"
   ]
  },
  {
   "cell_type": "code",
   "execution_count": 2,
   "id": "129fd71d",
   "metadata": {
    "execution": {
     "iopub.execute_input": "2024-01-30T13:56:28.125331Z",
     "iopub.status.busy": "2024-01-30T13:56:28.124876Z",
     "iopub.status.idle": "2024-01-30T13:56:29.266130Z",
     "shell.execute_reply": "2024-01-30T13:56:29.264604Z"
    },
    "papermill": {
     "duration": 1.152145,
     "end_time": "2024-01-30T13:56:29.269261",
     "exception": false,
     "start_time": "2024-01-30T13:56:28.117116",
     "status": "completed"
    },
    "tags": []
   },
   "outputs": [],
   "source": [
    "from openai import OpenAI\n",
    "from kaggle_secrets import UserSecretsClient\n",
    "import time "
   ]
  },
  {
   "cell_type": "code",
   "execution_count": 3,
   "id": "6f36d19e",
   "metadata": {
    "execution": {
     "iopub.execute_input": "2024-01-30T13:56:29.282737Z",
     "iopub.status.busy": "2024-01-30T13:56:29.282243Z",
     "iopub.status.idle": "2024-01-30T13:56:29.287560Z",
     "shell.execute_reply": "2024-01-30T13:56:29.286312Z"
    },
    "papermill": {
     "duration": 0.015079,
     "end_time": "2024-01-30T13:56:29.290243",
     "exception": false,
     "start_time": "2024-01-30T13:56:29.275164",
     "status": "completed"
    },
    "tags": []
   },
   "outputs": [],
   "source": [
    "class CFG:\n",
    "    file_path = '/kaggle/input/eu-constitution-full-text/European-Constitution-Full-Text.pdf'"
   ]
  },
  {
   "cell_type": "code",
   "execution_count": 4,
   "id": "3a6baba2",
   "metadata": {
    "execution": {
     "iopub.execute_input": "2024-01-30T13:56:29.303685Z",
     "iopub.status.busy": "2024-01-30T13:56:29.303238Z",
     "iopub.status.idle": "2024-01-30T13:56:29.481089Z",
     "shell.execute_reply": "2024-01-30T13:56:29.479728Z"
    },
    "papermill": {
     "duration": 0.187735,
     "end_time": "2024-01-30T13:56:29.484021",
     "exception": false,
     "start_time": "2024-01-30T13:56:29.296286",
     "status": "completed"
    },
    "tags": []
   },
   "outputs": [],
   "source": [
    "user_secrets = UserSecretsClient()\n",
    "\n",
    "client = OpenAI(api_key=user_secrets.get_secret(\"openai\"))\n"
   ]
  },
  {
   "cell_type": "code",
   "execution_count": 5,
   "id": "4893b65c",
   "metadata": {
    "execution": {
     "iopub.execute_input": "2024-01-30T13:56:29.497873Z",
     "iopub.status.busy": "2024-01-30T13:56:29.497457Z",
     "iopub.status.idle": "2024-01-30T13:56:32.317342Z",
     "shell.execute_reply": "2024-01-30T13:56:32.315878Z"
    },
    "papermill": {
     "duration": 2.830743,
     "end_time": "2024-01-30T13:56:32.320716",
     "exception": false,
     "start_time": "2024-01-30T13:56:29.489973",
     "status": "completed"
    },
    "tags": []
   },
   "outputs": [],
   "source": [
    "# upload the file\n",
    "\n",
    "\n",
    "file  =  client.files.create(\n",
    "    file=open(CFG.file_path, 'rb'),\n",
    "    purpose=\"assistants\"\n",
    "\n",
    ")\n",
    "\n"
   ]
  },
  {
   "cell_type": "code",
   "execution_count": 6,
   "id": "618c60fa",
   "metadata": {
    "execution": {
     "iopub.execute_input": "2024-01-30T13:56:32.339027Z",
     "iopub.status.busy": "2024-01-30T13:56:32.337627Z",
     "iopub.status.idle": "2024-01-30T13:56:34.454581Z",
     "shell.execute_reply": "2024-01-30T13:56:34.453042Z"
    },
    "papermill": {
     "duration": 2.129387,
     "end_time": "2024-01-30T13:56:34.458689",
     "exception": false,
     "start_time": "2024-01-30T13:56:32.329302",
     "status": "completed"
    },
    "tags": []
   },
   "outputs": [],
   "source": [
    "# create the assistant\n",
    "\n",
    "\n",
    "assistant = client.beta.assistants.create(\n",
    "    name = \"My helper\",\n",
    "    instructions = \"You answer questions about EU constitution, explaining legal issues in non-technical language for general audience.\",\n",
    "    tools = [{\"type\":\"retrieval\"}],\n",
    "    model = \"gpt-3.5-turbo-1106\",\n",
    "    file_ids = [file.id]\n",
    ")\n",
    "\n"
   ]
  },
  {
   "cell_type": "code",
   "execution_count": 7,
   "id": "30e9e62d",
   "metadata": {
    "execution": {
     "iopub.execute_input": "2024-01-30T13:56:34.477191Z",
     "iopub.status.busy": "2024-01-30T13:56:34.475862Z",
     "iopub.status.idle": "2024-01-30T13:56:34.660308Z",
     "shell.execute_reply": "2024-01-30T13:56:34.658335Z"
    },
    "papermill": {
     "duration": 0.198311,
     "end_time": "2024-01-30T13:56:34.663922",
     "exception": false,
     "start_time": "2024-01-30T13:56:34.465611",
     "status": "completed"
    },
    "tags": []
   },
   "outputs": [
    {
     "name": "stdout",
     "output_type": "stream",
     "text": [
      "Thread(id='thread_jKhJRZpSdyqG3v3ar2Bao9ei', created_at=1706622994, metadata={}, object='thread')\n"
     ]
    }
   ],
   "source": [
    "# create thread \n",
    "\n",
    "thread = client.beta.threads.create()\n",
    "print(thread)\n"
   ]
  },
  {
   "cell_type": "code",
   "execution_count": 8,
   "id": "969ab747",
   "metadata": {
    "execution": {
     "iopub.execute_input": "2024-01-30T13:56:34.683143Z",
     "iopub.status.busy": "2024-01-30T13:56:34.682561Z",
     "iopub.status.idle": "2024-01-30T13:56:36.474619Z",
     "shell.execute_reply": "2024-01-30T13:56:36.473409Z"
    },
    "papermill": {
     "duration": 1.805532,
     "end_time": "2024-01-30T13:56:36.477671",
     "exception": false,
     "start_time": "2024-01-30T13:56:34.672139",
     "status": "completed"
    },
    "tags": []
   },
   "outputs": [],
   "source": [
    "# add message to thread\n",
    "\n",
    "message = client.beta.threads.messages.create(\n",
    "    thread_id = thread.id,\n",
    "    role = \"user\",\n",
    "    content = \"What are fundamental rights?\"\n",
    "\n",
    ")"
   ]
  },
  {
   "cell_type": "code",
   "execution_count": 9,
   "id": "ff5c788b",
   "metadata": {
    "execution": {
     "iopub.execute_input": "2024-01-30T13:56:36.494178Z",
     "iopub.status.busy": "2024-01-30T13:56:36.493620Z",
     "iopub.status.idle": "2024-01-30T13:56:36.841764Z",
     "shell.execute_reply": "2024-01-30T13:56:36.840290Z"
    },
    "papermill": {
     "duration": 0.360502,
     "end_time": "2024-01-30T13:56:36.845116",
     "exception": false,
     "start_time": "2024-01-30T13:56:36.484614",
     "status": "completed"
    },
    "tags": []
   },
   "outputs": [],
   "source": [
    "# run the assistant\n",
    "run = client.beta.threads.runs.create(\n",
    "    thread_id = thread.id,\n",
    "    assistant_id= assistant.id\n",
    "\n",
    ")\n"
   ]
  },
  {
   "cell_type": "code",
   "execution_count": 10,
   "id": "3bffb365",
   "metadata": {
    "execution": {
     "iopub.execute_input": "2024-01-30T13:56:36.861091Z",
     "iopub.status.busy": "2024-01-30T13:56:36.860446Z",
     "iopub.status.idle": "2024-01-30T13:56:59.681485Z",
     "shell.execute_reply": "2024-01-30T13:56:59.680133Z"
    },
    "papermill": {
     "duration": 22.833009,
     "end_time": "2024-01-30T13:56:59.685042",
     "exception": false,
     "start_time": "2024-01-30T13:56:36.852033",
     "status": "completed"
    },
    "tags": []
   },
   "outputs": [],
   "source": [
    "# display the response \n",
    "while True:\n",
    "# Retrieve the run status\n",
    "    run_status = client.beta.threads.runs.retrieve(thread_id=thread.id,run_id=run.id)\n",
    "    time.sleep(10)\n",
    "    if run_status.status == 'completed':\n",
    "        messages = client.beta.threads.messages.list(thread_id=thread.id)\n",
    "        break\n",
    "    else:\n",
    "        ### sleep again\n",
    "        time.sleep(2)\n"
   ]
  },
  {
   "cell_type": "code",
   "execution_count": 11,
   "id": "41540969",
   "metadata": {
    "execution": {
     "iopub.execute_input": "2024-01-30T13:56:59.701734Z",
     "iopub.status.busy": "2024-01-30T13:56:59.701253Z",
     "iopub.status.idle": "2024-01-30T13:56:59.708511Z",
     "shell.execute_reply": "2024-01-30T13:56:59.707113Z"
    },
    "papermill": {
     "duration": 0.018761,
     "end_time": "2024-01-30T13:56:59.711380",
     "exception": false,
     "start_time": "2024-01-30T13:56:59.692619",
     "status": "completed"
    },
    "tags": []
   },
   "outputs": [
    {
     "name": "stdout",
     "output_type": "stream",
     "text": [
      "user:What are fundamental rights?\n",
      "assistant:Fundamental rights, as outlined in the European Constitution proposal, are inviolable and inalienable human rights that form the basis of every human community. The European Union recognizes a range of rights and freedoms for all citizens, including but not limited to the right to life and physical integrity, equality before the law, freedom of conscience, opinion, and belief, freedom of expression, peaceful assembly, association, and formation of political parties, privacy of communication and personal data, movement, occupation, education, private property, asylum, and political representation. It also includes the right to an adequate standard of living, full enjoyment of public goods, and the right to vote, which is considered a cornerstone of democracy. These rights are to be enjoyed without discrimination on any account, with specific mention of protection against discrimination based on various factors such as disability, employment, nationality, race or ethnicity, political and religious beliefs (or lack thereof), gender, sex, and sexual orientation.\n",
      "\n",
      "The proposal also emphasizes the responsibility of citizens to respect the rights and freedoms of others as well as the constitutional order. It stipulates that abuse of rights and freedoms, as defined by law and judicial decisions, may lead to the temporary withholding of some or all of the abuser’s rights and freedoms. Furthermore, the document outlines mandatory civic responsibilities such as compulsory education, the duty to vote, the duty to pay taxes, the mandate to fight tax evasion and avoidance, the duty to protect the environment, periodic review of environmental standards, and civic education and knowledge of institutions【7†source】.\n"
     ]
    }
   ],
   "source": [
    "for message in reversed(messages.data):\n",
    "    print(message.role + \":\" + message.content[0].text.value)"
   ]
  }
 ],
 "metadata": {
  "kaggle": {
   "accelerator": "none",
   "dataSources": [
    {
     "datasetId": 4376284,
     "sourceId": 7513478,
     "sourceType": "datasetVersion"
    },
    {
     "datasetId": 4376436,
     "sourceId": 7513691,
     "sourceType": "datasetVersion"
    }
   ],
   "dockerImageVersionId": 30646,
   "isGpuEnabled": false,
   "isInternetEnabled": true,
   "language": "python",
   "sourceType": "notebook"
  },
  "kernelspec": {
   "display_name": "Python 3",
   "language": "python",
   "name": "python3"
  },
  "language_info": {
   "codemirror_mode": {
    "name": "ipython",
    "version": 3
   },
   "file_extension": ".py",
   "mimetype": "text/x-python",
   "name": "python",
   "nbconvert_exporter": "python",
   "pygments_lexer": "ipython3",
   "version": "3.10.13"
  },
  "papermill": {
   "default_parameters": {},
   "duration": 53.201588,
   "end_time": "2024-01-30T13:57:00.341492",
   "environment_variables": {},
   "exception": null,
   "input_path": "__notebook__.ipynb",
   "output_path": "__notebook__.ipynb",
   "parameters": {},
   "start_time": "2024-01-30T13:56:07.139904",
   "version": "2.5.0"
  }
 },
 "nbformat": 4,
 "nbformat_minor": 5
}
